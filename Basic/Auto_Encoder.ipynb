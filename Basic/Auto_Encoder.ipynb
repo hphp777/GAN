{
  "nbformat": 4,
  "nbformat_minor": 0,
  "metadata": {
    "colab": {
      "name": "Auto_Encoder.ipynb",
      "provenance": [],
      "authorship_tag": "ABX9TyP1bTvutpARjljFnH7aDAxj",
      "include_colab_link": true
    },
    "kernelspec": {
      "name": "python3",
      "display_name": "Python 3"
    },
    "language_info": {
      "name": "python"
    }
  },
  "cells": [
    {
      "cell_type": "markdown",
      "metadata": {
        "id": "view-in-github",
        "colab_type": "text"
      },
      "source": [
        "<a href=\"https://colab.research.google.com/github/hphp777/GAN/blob/master/Basic/Auto_Encoder.ipynb\" target=\"_parent\"><img src=\"https://colab.research.google.com/assets/colab-badge.svg\" alt=\"Open In Colab\"/></a>"
      ]
    },
    {
      "cell_type": "markdown",
      "source": [
        "# 오토인코더\n",
        ": 단순히 입력을 출력으로 복사하는 신경망으로 은닉층의 노드 개수가 입력값보다 적은 것이 특징. 입력과 출력이 동일한 이미지\n",
        "- 구성: 인코더, 병목층, 디코더(압축된 데이터를 원래대로 재구성. 입력에 가까운 출력을 생성), 손실 재구성(손실함수는 입력과 출력의 차이를 가지고 계산)\n",
        "- 활용: 데이터 압축(이미지나 음성), 차원의 저주 문제 예방, 특성 추출(비지도 학습)\n",
        "- 생성된 이미지가 다소 흐릿하기 때문에 변형 오토인코더 사용"
      ],
      "metadata": {
        "id": "YFsv51om4Bjn"
      }
    },
    {
      "cell_type": "code",
      "execution_count": 17,
      "metadata": {
        "id": "Re7KzMIu1jWs"
      },
      "outputs": [],
      "source": [
        "import tensorflow as tf\n",
        "import numpy as np\n",
        "import matplotlib.pyplot as plt"
      ]
    },
    {
      "cell_type": "code",
      "source": [
        "input_image = tf.keras.layers.Input(shape=(784, ))\n",
        "encoded_input = tf.keras.layers.Dense(32,activation='relu')(input_image)\n",
        "decoded_output = tf.keras.layers.Dense(784, activation='sigmoid')(encoded_input)\n",
        "autoencoder = tf.keras.models.Model(input_image, decoded_output)"
      ],
      "metadata": {
        "id": "5QA2gqYf4-Zl"
      },
      "execution_count": 18,
      "outputs": []
    },
    {
      "cell_type": "code",
      "source": [
        "autoencoder.compile(optimizer='adam', loss = 'binary_crossentropy')"
      ],
      "metadata": {
        "id": "08S20N7M5nJG"
      },
      "execution_count": 24,
      "outputs": []
    },
    {
      "cell_type": "code",
      "source": [
        "                                                                                                                                                                                                                                                                                                                                                                                                                                                                                                                                                                                                                                                                                                                                                     # 데이터셋 준비\n",
        "(X_train, _), (X_test, _) = tf.keras.datasets.mnist.load_data() # (image, label) 형태로 데이터를 불러옴\n",
        "X_train = X_train.astype('float32') / 255\n",
        "X_test = X_test.astype('float32') / 255\n",
        "\n",
        "# np.pord : 행렬 요소를 다 곱함\n",
        "X_train = X_train.reshape((len(X_train), np.prod(X_train.shape[1:])))\n",
        "X_test = X_test.reshape((len(X_test), np.prod(X_test.shape[1:])))"
      ],
      "metadata": {
        "id": "VgCAPinS5zDB"
      },
      "execution_count": 22,
      "outputs": []
    },
    {
      "cell_type": "code",
      "source": [
        "autoencoder.fit(\n",
        "    X_train,\n",
        "    X_train,\n",
        "    epochs=30,\n",
        "    batch_size=256,\n",
        "    shuffle=True,\n",
        "    validation_data=(X_test,X_test)\n",
        ")"
      ],
      "metadata": {
        "colab": {
          "base_uri": "https://localhost:8080/"
        },
        "id": "axuMwwvv7x9J",
        "outputId": "04079a31-f93d-4659-859a-60dad9e997be"
      },
      "execution_count": 25,
      "outputs": [
        {
          "output_type": "stream",
          "name": "stdout",
          "text": [
            "Epoch 1/30\n",
            "235/235 [==============================] - 4s 14ms/step - loss: 0.2771 - val_loss: 0.1896\n",
            "Epoch 2/30\n",
            "235/235 [==============================] - 3s 13ms/step - loss: 0.1710 - val_loss: 0.1545\n",
            "Epoch 3/30\n",
            "235/235 [==============================] - 3s 13ms/step - loss: 0.1453 - val_loss: 0.1347\n",
            "Epoch 4/30\n",
            "235/235 [==============================] - 3s 12ms/step - loss: 0.1293 - val_loss: 0.1221\n",
            "Epoch 5/30\n",
            "235/235 [==============================] - 3s 13ms/step - loss: 0.1186 - val_loss: 0.1132\n",
            "Epoch 6/30\n",
            "235/235 [==============================] - 3s 13ms/step - loss: 0.1112 - val_loss: 0.1071\n",
            "Epoch 7/30\n",
            "235/235 [==============================] - 3s 12ms/step - loss: 0.1058 - val_loss: 0.1025\n",
            "Epoch 8/30\n",
            "235/235 [==============================] - 3s 12ms/step - loss: 0.1020 - val_loss: 0.0992\n",
            "Epoch 9/30\n",
            "235/235 [==============================] - 3s 13ms/step - loss: 0.0993 - val_loss: 0.0970\n",
            "Epoch 10/30\n",
            "235/235 [==============================] - 3s 13ms/step - loss: 0.0974 - val_loss: 0.0955\n",
            "Epoch 11/30\n",
            "235/235 [==============================] - 3s 14ms/step - loss: 0.0962 - val_loss: 0.0945\n",
            "Epoch 12/30\n",
            "235/235 [==============================] - 3s 14ms/step - loss: 0.0953 - val_loss: 0.0938\n",
            "Epoch 13/30\n",
            "235/235 [==============================] - 3s 14ms/step - loss: 0.0948 - val_loss: 0.0934\n",
            "Epoch 14/30\n",
            "235/235 [==============================] - 3s 14ms/step - loss: 0.0944 - val_loss: 0.0930\n",
            "Epoch 15/30\n",
            "235/235 [==============================] - 3s 14ms/step - loss: 0.0942 - val_loss: 0.0928\n",
            "Epoch 16/30\n",
            "235/235 [==============================] - 3s 13ms/step - loss: 0.0940 - val_loss: 0.0927\n",
            "Epoch 17/30\n",
            "235/235 [==============================] - 3s 14ms/step - loss: 0.0938 - val_loss: 0.0925\n",
            "Epoch 18/30\n",
            "235/235 [==============================] - 3s 14ms/step - loss: 0.0937 - val_loss: 0.0924\n",
            "Epoch 19/30\n",
            "235/235 [==============================] - 4s 16ms/step - loss: 0.0936 - val_loss: 0.0923\n",
            "Epoch 20/30\n",
            "235/235 [==============================] - 3s 15ms/step - loss: 0.0935 - val_loss: 0.0922\n",
            "Epoch 21/30\n",
            "235/235 [==============================] - 3s 13ms/step - loss: 0.0934 - val_loss: 0.0922\n",
            "Epoch 22/30\n",
            "235/235 [==============================] - 3s 13ms/step - loss: 0.0933 - val_loss: 0.0921\n",
            "Epoch 23/30\n",
            "235/235 [==============================] - 3s 13ms/step - loss: 0.0933 - val_loss: 0.0920\n",
            "Epoch 24/30\n",
            "235/235 [==============================] - 3s 13ms/step - loss: 0.0932 - val_loss: 0.0921\n",
            "Epoch 25/30\n",
            "235/235 [==============================] - 3s 14ms/step - loss: 0.0932 - val_loss: 0.0920\n",
            "Epoch 26/30\n",
            "235/235 [==============================] - 3s 13ms/step - loss: 0.0932 - val_loss: 0.0919\n",
            "Epoch 27/30\n",
            "235/235 [==============================] - 3s 13ms/step - loss: 0.0931 - val_loss: 0.0919\n",
            "Epoch 28/30\n",
            "235/235 [==============================] - 4s 16ms/step - loss: 0.0931 - val_loss: 0.0919\n",
            "Epoch 29/30\n",
            "235/235 [==============================] - 3s 14ms/step - loss: 0.0930 - val_loss: 0.0919\n",
            "Epoch 30/30\n",
            "235/235 [==============================] - 5s 22ms/step - loss: 0.0930 - val_loss: 0.0918\n"
          ]
        },
        {
          "output_type": "execute_result",
          "data": {
            "text/plain": [
              "<keras.callbacks.History at 0x7f7fa0d69510>"
            ]
          },
          "metadata": {},
          "execution_count": 25
        }
      ]
    },
    {
      "cell_type": "code",
      "source": [
        "# 원래 입력과 재구성된 입력을 시각화\n",
        "reconstructed_img = autoencoder.predict(X_test)\n",
        "n = 10\n",
        "plt.figure(figsize=(20,4)) # 20x4의 figure\n",
        "\n",
        "for i in range(n):\n",
        "  \n",
        "  ax = plt.subplot(2, n, i+1) # (row, column, index) \n",
        "  plt.imshow(X_test[i].reshape(28,28))\n",
        "  plt.gray()\n",
        "\n",
        "  ax.get_xaxis().set_visible(False)\n",
        "  ax.get_yaxis().set_visible(False)\n",
        "\n",
        "  ax = plt.subplot(2, n, i+1+n) # (row, column, index) \n",
        "  plt.imshow(reconstructed_img[i].reshape(28,28))\n",
        "  plt.gray()\n",
        "\n",
        "  ax.get_xaxis().set_visible(False)\n",
        "  ax.get_yaxis().set_visible(False)\n",
        "\n",
        "plt.show()"
      ],
      "metadata": {
        "colab": {
          "base_uri": "https://localhost:8080/",
          "height": 248
        },
        "id": "c7lZxLWmCCAI",
        "outputId": "a907fa1a-cf9a-4b73-ecfc-b7f29a190561"
      },
      "execution_count": 27,
      "outputs": [
        {
          "output_type": "display_data",
          "data": {
            "image/png": "[encoded data removed]",
            "text/plain": [
              "<Figure size 1440x288 with 20 Axes>"
            ]
          },
          "metadata": {
            "needs_background": "light"
          }
        }
      ]
    }
  ]
}